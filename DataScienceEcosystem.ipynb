{
 "cells": [
  {
   "cell_type": "markdown",
   "id": "9e3ba38e-9e77-4194-a4e6-90f9312f8cb3",
   "metadata": {},
   "source": [
    "# Data Science Tools and Ecosystem"
   ]
  },
  {
   "cell_type": "markdown",
   "id": "f72c8b37-6137-4879-8aa7-e33477232be6",
   "metadata": {},
   "source": [
    "In this notebook, Data Science and Ecosystem are summarized"
   ]
  },
  {
   "cell_type": "markdown",
   "id": "8a3cf055-f77c-4b02-89a2-66d3868f9902",
   "metadata": {},
   "source": [
    "Some of the popular languages that Data Scientists use are:\n",
    "1) Python\n",
    "2) R\n",
    "3) Matlab"
   ]
  },
  {
   "cell_type": "markdown",
   "id": "a28c998b-5aa9-4f6e-8d60-a968e1626da6",
   "metadata": {},
   "source": [
    "Some of the commonly used Data Science libraries include:\n",
    "1) Numpy\n",
    "2) Pandas\n",
    "3) Matplotlib"
   ]
  },
  {
   "cell_type": "markdown",
   "id": "7e2b6e77-be19-4715-81f7-f8a7c763fd30",
   "metadata": {},
   "source": [
    "|Data Science Tools|\n",
    "|------------------|\n",
    "|Jupyter Notebook|\n",
    "|Jupyter Lab|\n",
    "|Google Colab|"
   ]
  },
  {
   "cell_type": "markdown",
   "id": "f86b3721-b71e-4d00-b56f-17fa784a8d07",
   "metadata": {},
   "source": [
    "### Below are a few examples of evaluating arithmetic expressions in Python"
   ]
  },
  {
   "cell_type": "code",
   "execution_count": 6,
   "id": "74ebd105-8a3e-4cdd-8605-f3f8a7064e31",
   "metadata": {},
   "outputs": [
    {
     "data": {
      "text/plain": [
       "17"
      ]
     },
     "execution_count": 6,
     "metadata": {},
     "output_type": "execute_result"
    }
   ],
   "source": [
    "# This a simple arithmetic expression to mutiply then add integers\n",
    "(3*4)+5"
   ]
  },
  {
   "cell_type": "code",
   "execution_count": 7,
   "id": "922333f1-8b84-408e-984a-cc537637496c",
   "metadata": {},
   "outputs": [
    {
     "data": {
      "text/plain": [
       "3.3333333333333335"
      ]
     },
     "execution_count": 7,
     "metadata": {},
     "output_type": "execute_result"
    }
   ],
   "source": [
    "# This will convert 200 minutes to hours by dividing by 60\n",
    "200/60"
   ]
  },
  {
   "cell_type": "markdown",
   "id": "30518bb4-aa3d-411b-b017-26cc90a95de8",
   "metadata": {},
   "source": [
    "**Objectives:**\n",
    "* List popular language for data science\n",
    "* Arithematice operations in jupyter notebook\n",
    "* Popular data science libraries\n",
    "* Popular data science tools"
   ]
  },
  {
   "cell_type": "markdown",
   "id": "5ae23b6d-215c-4122-bf11-fb78cdaf1bdf",
   "metadata": {},
   "source": [
    "## Author\n",
    "Vishwesh Meher"
   ]
  }
 ],
 "metadata": {
  "kernelspec": {
   "display_name": "Python 3 (ipykernel)",
   "language": "python",
   "name": "python3"
  },
  "language_info": {
   "codemirror_mode": {
    "name": "ipython",
    "version": 3
   },
   "file_extension": ".py",
   "mimetype": "text/x-python",
   "name": "python",
   "nbconvert_exporter": "python",
   "pygments_lexer": "ipython3",
   "version": "3.12.7"
  }
 },
 "nbformat": 4,
 "nbformat_minor": 5
}
